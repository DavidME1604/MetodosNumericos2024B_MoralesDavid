{
 "cells": [
  {
   "cell_type": "raw",
   "id": "d8700097-90a3-4a65-af9a-f23bbf4d93c4",
   "metadata": {},
   "source": [
    "---\n",
    "title: \"Ejercicios: Errores Numéricos\"\n",
    "author: \"David Morales\"\n",
    "lang: es\n",
    "format: \n",
    "  pdf:\n",
    "    toc: false\n",
    "execute:\n",
    "  output-format: console\n",
    "  echo: true\n",
    "  error: true\n",
    "  warning: false\n",
    "jupyter: python3\n",
    "---"
   ]
  },
  {
   "cell_type": "markdown",
   "id": "303625b7-e67d-4393-8084-6231eab3b1bb",
   "metadata": {},
   "source": [
    "**1.** Calcule los errores absoluto y relativo en las aproximaciones de $𝑝$ por $𝑝∗$."
   ]
  },
  {
   "cell_type": "markdown",
   "id": "dff4c9c3-981b-4bf7-a266-d2b2a6bc031e",
   "metadata": {},
   "source": [
    "**a)** $p =\\pi,  p^*=\\frac{22}{7}$ "
   ]
  },
  {
   "cell_type": "markdown",
   "id": "3223d01c-3185-4f47-b021-7828dd3c3ec1",
   "metadata": {},
   "source": [
    "$error_{abs} = | p - p^* | = | \\pi - \\frac{22}{7}|$"
   ]
  },
  {
   "cell_type": "markdown",
   "id": "57418b28-8b84-4ec2-ad6c-299edb31462a",
   "metadata": {},
   "source": [
    "$error_{relativo} = \\frac{| p - p^* |}{|p|} = \\frac{|\\pi - \\frac{22}{7}|}{|\\pi|}$"
   ]
  },
  {
   "cell_type": "code",
   "execution_count": null,
   "id": "84a08214-3f7d-4390-b656-4f62ee9028ec",
   "metadata": {},
   "outputs": [],
   "source": [
    "import math\n",
    "error_absoluto = abs(math.pi - 22/7)\n",
    "error_relativo = error_absoluto/abs(math.pi)\n",
    "print(f\"{error_relativo:.10f}\")\n",
    "print(f\"{error_absoluto:.10f}\")"
   ]
  },
  {
   "cell_type": "markdown",
   "id": "b116366b-19c2-4935-9298-c862aef145a8",
   "metadata": {},
   "source": [
    "$error_{relativo} = 0.0004024994$\n",
    "\n",
    "$error_{abs} = 0.0012644893$"
   ]
  },
  {
   "cell_type": "markdown",
   "id": "f79ef2e3-7be3-4cf8-af6e-6821be2b3bda",
   "metadata": {},
   "source": [
    "**b)** $p = \\pi, p^* = 3.1416$"
   ]
  },
  {
   "cell_type": "markdown",
   "id": "b65d1b4d-c03a-4888-a1da-cb6f23560533",
   "metadata": {},
   "source": [
    "$error_{abs} = | p - p^* | = | \\pi - 3.1416 |$\n",
    "\n",
    "$error_{relativo} = \\frac{| p - p^* |}{|p|} = \\frac{|\\pi - 3.1416|}{|\\pi|}$"
   ]
  },
  {
   "cell_type": "code",
   "execution_count": null,
   "id": "c50de74f-6275-473a-9dfb-dfe7a3323b0e",
   "metadata": {},
   "outputs": [],
   "source": [
    "error_absoluto = abs(math.pi - 3.1416)\n",
    "error_relativo = error_absoluto/abs(math.pi)\n",
    "print(f\"{error_relativo:.10f}\")\n",
    "print(f\"{error_absoluto:.10f}\")"
   ]
  },
  {
   "cell_type": "markdown",
   "id": "daef2cc2-50e9-4f19-909f-1b3ea0efa621",
   "metadata": {},
   "source": [
    "$error_{relativo} = 0.0000023384$\n",
    "\n",
    "$error_{abs} = 0.0000073464$"
   ]
  },
  {
   "cell_type": "markdown",
   "id": "593e1fd2-78ba-4c56-9538-b20d0c0bded9",
   "metadata": {},
   "source": [
    "**c)** $p = e, p^* = 2.718$"
   ]
  },
  {
   "cell_type": "markdown",
   "id": "d2832f1f-bed3-4c1b-9d03-332ea7205c1e",
   "metadata": {},
   "source": [
    "$error_{abs} = | p - p^* | = | e - 2.718|$"
   ]
  },
  {
   "cell_type": "markdown",
   "id": "38ab9ab3-fce1-4359-a0a6-03db86cbbf68",
   "metadata": {},
   "source": [
    "$error_{relativo} = \\frac{| p - p^* |}{|p|} = \\frac{|e - 2.718|}{|e|}$"
   ]
  },
  {
   "cell_type": "code",
   "execution_count": null,
   "id": "1ebd7569-65fa-4db4-b9b4-ffb6144ef06d",
   "metadata": {},
   "outputs": [],
   "source": [
    "error_absoluto = abs(math.e - 2.718)\n",
    "error_relativo = error_absoluto/abs(math.e)\n",
    "print(f\"{error_relativo:.10f}\")\n",
    "print(f\"{error_absoluto:.10f}\")"
   ]
  },
  {
   "cell_type": "markdown",
   "id": "4e995bb1-f888-459f-863d-313d2e46592b",
   "metadata": {},
   "source": [
    "$error_{relativo} = 0.0001036789$\n",
    "\n",
    "$error_{abs} = 0.0002818285$"
   ]
  },
  {
   "cell_type": "markdown",
   "id": "8344907c-3658-4b73-971d-6c65a7eca172",
   "metadata": {},
   "source": [
    "**d)** $p = \\sqrt{2}, p^* = 1.414$"
   ]
  },
  {
   "cell_type": "markdown",
   "id": "50a1db64-6a8e-4c97-85bb-f4efe0580cb3",
   "metadata": {},
   "source": [
    "$error_{abs} = | p - p^* | = | \\sqrt{2} - 1.414|$"
   ]
  },
  {
   "cell_type": "markdown",
   "id": "aee7e87a-842e-487b-bd6a-784c77e22202",
   "metadata": {},
   "source": [
    "$error_{relativo} = \\frac{| p - p^* |}{|p|} = \\frac{|\\sqrt{2} - 1.414|}{|\\sqrt{2}|}$"
   ]
  },
  {
   "cell_type": "code",
   "execution_count": null,
   "id": "531eed8a-168d-4b10-9961-8aad1c5119be",
   "metadata": {},
   "outputs": [],
   "source": [
    "error_absoluto = abs(math.sqrt(2) - 1.414)\n",
    "error_relativo = error_absoluto/abs(math.sqrt(2))\n",
    "print(f\"{error_relativo:.10f}\")\n",
    "print(f\"{error_absoluto:.10f}\")"
   ]
  },
  {
   "cell_type": "markdown",
   "id": "b9619545-b5a6-4f79-8199-50787801e623",
   "metadata": {},
   "source": [
    "$error_{relativo} = 0.0001510114$\n",
    "\n",
    "$error_{abs} = 0.0002135624$"
   ]
  },
  {
   "cell_type": "markdown",
   "id": "7b3b2968-2e33-4eef-9bfe-f11a89648ad4",
   "metadata": {},
   "source": [
    "**2.** Calcule los errores absoluto y relativo en las aproximaciones de $𝑝$ por $𝑝∗$. "
   ]
  },
  {
   "cell_type": "markdown",
   "id": "04d5232c-67e7-46b2-95d7-fc0bf0eb2e68",
   "metadata": {},
   "source": [
    "**a)** $p = e^{10}, p^* = 22000$"
   ]
  },
  {
   "cell_type": "markdown",
   "id": "19a36262-d4ea-455b-9b5d-7a2abd8249c3",
   "metadata": {},
   "source": [
    "$error_{abs} = | p - p^* | = | e^{10} - 22000 |$\n",
    "\n",
    "$error_{relativo} = \\frac{| p - p^* |}{|p|} = \\frac{|e^{10} - 22000|}{|e^{10}|}$"
   ]
  },
  {
   "cell_type": "code",
   "execution_count": null,
   "id": "64becdbe-7158-4c8d-bb50-9cc209ae377f",
   "metadata": {},
   "outputs": [],
   "source": [
    "error_absoluto = abs(math.pow(math.e,10) - 22000)\n",
    "error_relativo = error_absoluto/abs(math.pow(math.e,10))\n",
    "print(f\"{error_relativo:.10f}\")\n",
    "print(f\"{error_absoluto:.10f}\")"
   ]
  },
  {
   "cell_type": "markdown",
   "id": "b6b255f3-53fb-4ba9-8245-a44b3f9b19ff",
   "metadata": {},
   "source": [
    "$error_{relativo} = 0.0012015452$\n",
    "\n",
    "$error_{abs} = 26.4657948067$"
   ]
  },
  {
   "cell_type": "markdown",
   "id": "7f1a890c-638d-462c-96d9-8186b8b82324",
   "metadata": {},
   "source": [
    "**b)** $p = 10^{\\pi}, p^* = 1400$"
   ]
  },
  {
   "cell_type": "markdown",
   "id": "617175ed-fd3f-4e6b-9efa-b273840b6dd9",
   "metadata": {},
   "source": [
    "$error_{abs} = | p - p^* | = | 10^{\\pi} - 1400 |$\n",
    "\n",
    "$error_{relativo} = \\frac{| p - p^* |}{|p|} = \\frac{|10^{\\pi} - 1400|}{|10^{\\pi}|}$"
   ]
  },
  {
   "cell_type": "code",
   "execution_count": null,
   "id": "576a4eca-31c9-43d1-aa0c-1ca65235187f",
   "metadata": {},
   "outputs": [],
   "source": [
    "error_absoluto = abs(math.pow(10, math.pi) - 1400)\n",
    "error_relativo = error_absoluto/abs(math.pow(10, math.pi))\n",
    "print(f\"{error_relativo:.10f}\")\n",
    "print(f\"{error_absoluto:.10f}\")"
   ]
  },
  {
   "cell_type": "markdown",
   "id": "939d558b-9b11-4c1a-9e3d-a6c9f4abd19e",
   "metadata": {},
   "source": [
    "$error_{relativo} = 0.0104978227$\n",
    "\n",
    "$error_{abs} = 14.5442686330$"
   ]
  },
  {
   "cell_type": "markdown",
   "id": "db27dcff-605a-49f5-87a5-718989e10f48",
   "metadata": {},
   "source": [
    "**c)** $p = 8!, p^* = 39900$"
   ]
  },
  {
   "cell_type": "markdown",
   "id": "a8b196b5-8b9b-49b6-b24c-0b9456d857fa",
   "metadata": {},
   "source": [
    "$error_{abs} = | p - p^* | = | 8! - 39900 |$\n",
    "\n",
    "$error_{relativo} = \\frac{| p - p^* |}{|p|} = \\frac{|8! - 39900 |}{|8!|}$"
   ]
  },
  {
   "cell_type": "code",
   "execution_count": null,
   "id": "0fc56277-5fe7-41fb-a138-010d9537959a",
   "metadata": {},
   "outputs": [],
   "source": [
    "error_absoluto = abs(math.factorial(8) - 39900)\n",
    "error_relativo = error_absoluto/abs(math.factorial(8))\n",
    "print(f\"{error_relativo:.10f}\")\n",
    "print(f\"{error_absoluto:.10f}\")"
   ]
  },
  {
   "cell_type": "markdown",
   "id": "12ace840-b451-4b2a-8880-493fbee0dfb0",
   "metadata": {},
   "source": [
    "$error_{relativo} = 0.0104166667$\n",
    "\n",
    "$error_{abs} = 420.0000000000$"
   ]
  },
  {
   "cell_type": "markdown",
   "id": "1c95125c-472a-437a-ab65-889d1a205e7b",
   "metadata": {},
   "source": [
    "**d)** $p = 9!, p^* = \\sqrt{18\\pi}(\\frac{9}{e})^9$"
   ]
  },
  {
   "cell_type": "markdown",
   "id": "01feb55f-9906-49ef-93e9-f9e9b8ca8a08",
   "metadata": {},
   "source": [
    "$error_{abs} = | p - p^* | = | 9! - \\sqrt{18\\pi}(\\frac{9}{e})^9 |$\n",
    "\n",
    "$error_{relativo} = \\frac{| p - p^* |}{|p|} = \\frac{| 9! - \\sqrt{18\\pi}(\\frac{9}{e})^9|}{|9!|}$"
   ]
  },
  {
   "cell_type": "code",
   "execution_count": null,
   "id": "03a04b67-e3a8-409c-b503-22f0d7e7a689",
   "metadata": {},
   "outputs": [],
   "source": [
    "error_absoluto = abs(math.factorial(9) - math.sqrt(18*math.pi)*math.pow(9/math.e,9))\n",
    "error_relativo = error_absoluto/abs(math.factorial(9))\n",
    "print(f\"{error_relativo:.10f}\")\n",
    "print(f\"{error_absoluto:.10f}\")"
   ]
  },
  {
   "cell_type": "markdown",
   "id": "97cef708-aea1-4661-99de-fd45b1dd1f32",
   "metadata": {},
   "source": [
    "$error_{relativo} = 0.0092127622$\n",
    "\n",
    "$error_{abs} = 3343.1271580516$"
   ]
  },
  {
   "cell_type": "markdown",
   "id": "7a78cd88-e98b-4c2d-b51c-a8f956786c56",
   "metadata": {},
   "source": [
    "**3)** Encuentre el intervalo más largo en el que se debe encontrar 𝑝∗ para aproximarse a 𝑝 con error relativo \n",
    "máximo de $10^{-4} $ para cada valor de 𝑝. "
   ]
  },
  {
   "cell_type": "markdown",
   "id": "f82bb958-ecb6-4e89-b26b-fd127026df2c",
   "metadata": {},
   "source": [
    "Para los literales de este ejercicio se utilizará la misma fórmula que se deducirá acontinuación"
   ]
  },
  {
   "cell_type": "markdown",
   "id": "890b8f44-39e6-40b5-a57c-803ebf778968",
   "metadata": {},
   "source": [
    "$Error_{relativo} = \\frac{|p-p^*|}{|p|}$\n",
    "\n",
    "$\\frac{|p-p^*|}{|p|} \\leq 10^{-4}$\n",
    "\n",
    "$|p-p^*| \\leq 10^{-4} \\cdot |p|$\n",
    "\n",
    "$p - 10^{-4} \\cdot |p| \\leq p^* \\leq p + 10^{-4} \\cdot |p|$"
   ]
  },
  {
   "cell_type": "markdown",
   "id": "be538685-678f-4a42-962b-afec9016ef70",
   "metadata": {},
   "source": [
    "**a)** $\\pi$"
   ]
  },
  {
   "cell_type": "markdown",
   "id": "320d2b65-8b63-4c6b-bf71-0343bfcfd852",
   "metadata": {},
   "source": [
    "$\\pi - 10^{-4} \\cdot |\\pi| \\leq p^* \\leq \\pi + 10^{-4} \\cdot |\\pi|$"
   ]
  },
  {
   "cell_type": "code",
   "execution_count": null,
   "id": "4455b05c-4ce6-4d2f-9fdc-db96d3dd72f9",
   "metadata": {},
   "outputs": [],
   "source": [
    "extremo_inferior = math.pi - math.pow(10,-4) * abs(math.pi)\n",
    "extremo_superior = math.pi + math.pow(10,-4) * abs(math.pi)\n",
    "print(f\"{extremo_inferior:.10f}\")\n",
    "print(f\"{extremo_superior:.10f}\")"
   ]
  },
  {
   "cell_type": "markdown",
   "id": "25eab6b3-4f73-4303-9cba-04fa1245f425",
   "metadata": {},
   "source": [
    "$3.1412784943 \\leq p^* \\leq 3.1419068129$"
   ]
  },
  {
   "cell_type": "markdown",
   "id": "d06a9f59-24ea-4e2b-b9b4-888e1cec9780",
   "metadata": {},
   "source": [
    "**b)** $e$"
   ]
  },
  {
   "cell_type": "markdown",
   "id": "85a6364d-ccb1-4b27-8a83-59c2328289fd",
   "metadata": {},
   "source": [
    "$e - 10^{-4} \\cdot |e| \\leq p^* \\leq e + 10^{-4} \\cdot |e|$"
   ]
  },
  {
   "cell_type": "code",
   "execution_count": null,
   "id": "92f75392-8323-4483-ae87-8a00896f6488",
   "metadata": {},
   "outputs": [],
   "source": [
    "extremo_inferior = math.e - math.pow(10,-4) * math.e\n",
    "extremo_superior = math.e + math.pow(10,-4) * math.e\n",
    "print(f\"{extremo_inferior:.10f}\")\n",
    "print(f\"{extremo_superior:.10f}\")"
   ]
  },
  {
   "cell_type": "markdown",
   "id": "eab62d4f-a36e-4b07-b47e-8dde33444d46",
   "metadata": {},
   "source": [
    "$2.7180100003 \\leq p^* \\leq 2.7185536566$"
   ]
  },
  {
   "cell_type": "markdown",
   "id": "219fcc23-c633-48fa-9bdf-69b2c43a1f5b",
   "metadata": {},
   "source": [
    "**c)** $\\sqrt{2}$"
   ]
  },
  {
   "cell_type": "markdown",
   "id": "3036da81-cbf2-4da7-8fe2-d1c925a369a6",
   "metadata": {},
   "source": [
    "$\\sqrt{2} - 10^{-4} \\cdot |\\sqrt{2}| \\leq p^* \\leq \\sqrt{2} + 10^{-4} \\cdot |\\sqrt{2}|$"
   ]
  },
  {
   "cell_type": "code",
   "execution_count": null,
   "id": "2efd4e75-44c6-4b94-af0e-26af676a1337",
   "metadata": {},
   "outputs": [],
   "source": [
    "extremo_inferior = math.sqrt(2) - math.pow(10,-4) * math.sqrt(2)\n",
    "extremo_superior = math.sqrt(2) + math.pow(10,-4) * math.sqrt(2)\n",
    "print(f\"{extremo_inferior:.10f}\")\n",
    "print(f\"{extremo_superior:.10f}\")"
   ]
  },
  {
   "cell_type": "markdown",
   "id": "c2d6fc31-c374-4c49-8e8e-d337326c3c83",
   "metadata": {},
   "source": [
    "$1.4140721410 \\leq p^* \\leq 1.4143549837$"
   ]
  },
  {
   "cell_type": "markdown",
   "id": "5ffe9aa2-e709-4d19-8e6f-f086decf8ec8",
   "metadata": {},
   "source": [
    "**c)** $\\sqrt[3]{7}$"
   ]
  },
  {
   "cell_type": "markdown",
   "id": "c25fd915-2214-4f9d-8ef4-4d55539a6f27",
   "metadata": {},
   "source": [
    "$\\sqrt[3]{7} - 10^{-4} \\cdot |\\sqrt[3]{7}| \\leq p^* \\leq \\sqrt[3]{7} + 10^{-4} \\cdot |\\sqrt[3]{7}|$"
   ]
  },
  {
   "cell_type": "code",
   "execution_count": null,
   "id": "8e1e1494-684d-4a55-b11b-38cb12b99761",
   "metadata": {},
   "outputs": [],
   "source": [
    "extremo_inferior = math.pow(7,1/3) - math.pow(10,-4) * math.pow(7,1/3)\n",
    "extremo_superior = math.pow(7,1/3) + math.pow(10,-4) * math.pow(7,1/3)\n",
    "print(f\"{extremo_inferior:.10f}\")\n",
    "print(f\"{extremo_superior:.10f}\")"
   ]
  },
  {
   "cell_type": "markdown",
   "id": "efb67ec5-2c41-4b92-803d-1a4fc97dbeec",
   "metadata": {},
   "source": [
    "$1.9127398897 \\leq p^* \\leq 1.9131224759$"
   ]
  },
  {
   "cell_type": "markdown",
   "id": "0f8d5d80-55ad-4f22-9412-27e84d4115ca",
   "metadata": {},
   "source": [
    "**4)**  Use la aritmética de redondeo de tres dígitos para realizar lo siguiente. Calcule los errores absoluto y relativo con el valor exacto determinado para por lo menos cinco dígitos. "
   ]
  },
  {
   "cell_type": "markdown",
   "id": "3cee0f33-3de1-4fe4-b8fb-5045812cf8f9",
   "metadata": {},
   "source": [
    "**a.** $\\frac{\\frac{13}{14} - \\frac{5}{7}}{2e-5.4}$"
   ]
  },
  {
   "cell_type": "markdown",
   "id": "8f97f756-27b5-472d-96a8-5192c5acc844",
   "metadata": {},
   "source": [
    "$error_{abs} = | p - p^* | = | \\frac{\\frac{13}{14} - \\frac{5}{7}}{2e-5.4} - \\frac{\\frac{13}{14} - \\frac{5}{7}}{2e-5.4} |$\n",
    "\n",
    "$error_{relativo} = \\frac{| p - p^* |}{|p|} = \\frac{|\\frac{\\frac{13}{14} - \\frac{5}{7}}{2e-5.4} - \\frac{\\frac{13}{14} - \\frac{5}{7}}{2e-5.4}|}{|\\frac{\\frac{13}{14} - \\frac{5}{7}}{2e-5.4}|}$"
   ]
  },
  {
   "cell_type": "code",
   "execution_count": null,
   "id": "4709eda9-b02d-4d1b-b68a-40426163db1f",
   "metadata": {},
   "outputs": [],
   "source": [
    "error_absoluto = abs((13/14 - 5/7)/(2*math.e-5.4)-round((13/14 - 5/7)/(2*math.e-5.4),2))\n",
    "error_relativo = error_absoluto/abs((13/14 - 5/7)/(2*math.e-5.4))\n",
    "print(f\"{error_relativo:.10f}\")\n",
    "print(f\"{error_absoluto:.10f}\")"
   ]
  },
  {
   "cell_type": "markdown",
   "id": "0c0cc497-e95f-422c-b440-a4ef9234fac7",
   "metadata": {},
   "source": [
    "$error_{relativo} = 0.0001058621$\n",
    "\n",
    "$error_{abs} = 0.0006204179$"
   ]
  },
  {
   "cell_type": "markdown",
   "id": "2957a7a5-6723-4d04-9917-00f9a84e9d57",
   "metadata": {},
   "source": [
    "**b)** $-10\\pi + 6e-\\frac{3}{61}$"
   ]
  },
  {
   "cell_type": "markdown",
   "id": "300b1c40-510f-46a1-bc25-d438d3f52b66",
   "metadata": {},
   "source": [
    "$error_{abs} = | p - p^* | = | -10\\pi + 6e-\\frac{3}{61} - (-10\\pi + 6e-\\frac{3}{61})|$\n",
    "\n",
    "$error_{relativo} = \\frac{| p - p^* |}{|p|} = \\frac{|-10\\pi + 6e-\\frac{3}{61} -(-10\\pi + 6e-\\frac{3}{61})|}{|-10\\pi + 6e-\\frac{3}{61}|}$"
   ]
  },
  {
   "cell_type": "code",
   "execution_count": null,
   "id": "e51922c3-c21d-4eda-a051-274a275d8998",
   "metadata": {},
   "outputs": [],
   "source": [
    "error_absoluto = abs((-10 * math.pi + 6 * math.e - 3/61)- round(-10 * math.pi + 6 * math.e - 3/61, 1))\n",
    "error_relativo = error_absoluto/abs(-10 * math.pi + 6 * math.e - 3/61)\n",
    "print(f\"{error_relativo:.10f}\")\n",
    "print(f\"{error_absoluto:.10f}\")"
   ]
  },
  {
   "cell_type": "markdown",
   "id": "fda674d2-21d6-4c46-bc0e-58ea455ff9af",
   "metadata": {},
   "source": [
    "$error_{relativo} = 0.0029417937$\n",
    "\n",
    "$error_{abs} = 0.0445841070$"
   ]
  },
  {
   "cell_type": "markdown",
   "id": "e933f7a3-f99b-44c8-bd14-6adeadc17b62",
   "metadata": {},
   "source": [
    "**c)** $(\\frac{2}{9})\\cdot(\\frac{9}{11})$"
   ]
  },
  {
   "cell_type": "markdown",
   "id": "f8a3fa36-447b-4e13-b6ed-934d1e82c6ab",
   "metadata": {},
   "source": [
    "$error_{abs} = | p - p^* | = | (\\frac{2}{9})\\cdot(\\frac{9}{11}) - (\\frac{2}{9})\\cdot(\\frac{9}{11})|$\n",
    "\n",
    "$error_{relativo} = \\frac{| p - p^* |}{|p|} = \\frac{|(\\frac{2}{9})\\cdot(\\frac{9}{11}) - (\\frac{2}{9})\\cdot(\\frac{9}{11})|}{|(\\frac{2}{9})\\cdot(\\frac{9}{11})|}$"
   ]
  },
  {
   "cell_type": "code",
   "execution_count": null,
   "id": "24b725b8-0959-4469-8c43-6c1042672ac2",
   "metadata": {},
   "outputs": [],
   "source": [
    "error_absoluto = abs((2/9)*(9/11) - round((2/9)*(9/11),3))\n",
    "error_relativo = error_absoluto/abs((2/9)*(9/11))\n",
    "print(f\"{error_relativo:.10f}\")\n",
    "print(f\"{error_absoluto:.10f}\")"
   ]
  },
  {
   "cell_type": "markdown",
   "id": "e7907710-d748-475f-981b-fbbdbab49045",
   "metadata": {},
   "source": [
    "$error_{relativo} = 0.0010000000$\n",
    "\n",
    "$error_{abs} = 0.0001818182$"
   ]
  },
  {
   "cell_type": "markdown",
   "id": "5ffa9c44-492f-4c74-8189-dab9c833cd06",
   "metadata": {},
   "source": [
    "**d)** $\\frac{\\sqrt{13}+\\sqrt{11}}{\\sqrt{13}-\\sqrt{11}}$"
   ]
  },
  {
   "cell_type": "markdown",
   "id": "374ab194-f1c2-4a62-8925-089446916043",
   "metadata": {},
   "source": [
    "$error_{abs} = | p - p^* | = | \\frac{\\sqrt{13}+\\sqrt{11}}{\\sqrt{13}-\\sqrt{11}} - \\frac{\\sqrt{13}+\\sqrt{11}}{\\sqrt{13}-\\sqrt{11}}|$\n",
    "\n",
    "$error_{relativo} = \\frac{| p - p^* |}{|p|} = \\frac{|\\frac{\\sqrt{13}+\\sqrt{11}}{\\sqrt{13}-\\sqrt{11}} - \\frac{\\sqrt{13}+\\sqrt{11}}{\\sqrt{13}-\\sqrt{11}}|}{|\\frac{\\sqrt{13}+\\sqrt{11}}{\\sqrt{13}-\\sqrt{11}}|}$"
   ]
  },
  {
   "cell_type": "code",
   "execution_count": null,
   "id": "bda34aed-267b-4136-b22d-427f1155e876",
   "metadata": {},
   "outputs": [],
   "source": [
    "expresion = (math.sqrt(13)+math.sqrt(11))/(math.sqrt(13)-math.sqrt(11))\n",
    "error_absoluto = abs(expresion - round(expresion))\n",
    "error_relativo = error_absoluto/abs(expresion)\n",
    "print(f\"{error_relativo:.10f}\")\n",
    "print(f\"{error_absoluto:.10f}\")"
   ]
  },
  {
   "cell_type": "markdown",
   "id": "e9e27ea8-b328-4fde-a2e4-0c2ee2fb94e3",
   "metadata": {},
   "source": [
    "$error_{relativo} = 0.0017421656$\n",
    "\n",
    "$error_{abs} = 0.0417392569$"
   ]
  },
  {
   "cell_type": "markdown",
   "id": "1f717840-e8f4-4209-a4f9-2d9ead2e4ebe",
   "metadata": {},
   "source": [
    "**5.** Los primeros tres términos diferentes a cero de la serie de Maclaurin para la función arcotangente son: $x-\\frac{1}{3}x^3+\\frac{1}{5}x^5$. Calcule los errores absoluto y relativo en las siguientes aproximaciones de 𝜋 \n",
    "mediante el polinomio en lugar del arcotangente:"
   ]
  },
  {
   "cell_type": "markdown",
   "id": "0e987207-1358-430c-ae75-2c6b00f6b4ff",
   "metadata": {},
   "source": [
    "**a.** $4[arctan(\\frac{1}{2}) + arctan(\\frac{1}{3})]$"
   ]
  },
  {
   "cell_type": "code",
   "execution_count": null,
   "id": "194c584c-6077-4fc7-b066-813ebc2ce178",
   "metadata": {},
   "outputs": [],
   "source": [
    "arctan1 = 1/2 - (1/3)*(1/2)**3 + (1/5)*(1/2)**5\n",
    "arctan2 = 1/3 - (1/3)*(1/3)**3 + (1/5)*(1/3)**5\n",
    "print(arctan1)\n",
    "print(arctan2)"
   ]
  },
  {
   "cell_type": "markdown",
   "id": "f485a81d-b9a8-49f2-8664-22a196ff970f",
   "metadata": {},
   "source": [
    "$arctan(\\frac{1}{2}) = \\frac{1}{2}-\\frac{1}{3}(\\frac{1}{2})^3+\\frac{1}{5}(\\frac{1}{2})^5 = 0.4645833333333333$\n",
    "\n",
    "$arctan(\\frac{1}{3}) = \\frac{1}{3}-\\frac{1}{3}(\\frac{1}{3})^3+\\frac{1}{5}(\\frac{1}{3})^5 = 0.32181069958847736$"
   ]
  },
  {
   "cell_type": "code",
   "execution_count": null,
   "id": "6eb3385d-de10-4faa-85dc-0213beb6ff6e",
   "metadata": {},
   "outputs": [],
   "source": [
    "aprox = 4*(arctan1+arctan2)\n",
    "print(aprox)"
   ]
  },
  {
   "cell_type": "markdown",
   "id": "060df31c-2de4-4374-a86a-8b9d1087c20e",
   "metadata": {},
   "source": [
    "$4[arctan(\\frac{1}{2}) + arctan(\\frac{1}{3})] = 4[\\frac{1}{2}-\\frac{1}{3}(\\frac{1}{2})^3+\\frac{1}{5}(\\frac{1}{2})^5 + \\frac{1}{3}-\\frac{1}{3}(\\frac{1}{3})^3+\\frac{1}{5}(\\frac{1}{3})^5] = 3.1455761316872426$"
   ]
  },
  {
   "cell_type": "markdown",
   "id": "09308aa0-e178-4995-9b12-9fb6a96072c6",
   "metadata": {},
   "source": [
    "$error_{abs} = | p - p^* | = |\\pi - 3.1455761316872426|$\n",
    "\n",
    "$error_{relativo} = \\frac{| p - p^* |}{|p|} = \\frac{|\\pi - 3.1455761316872426|}{|\\pi|}$"
   ]
  },
  {
   "cell_type": "code",
   "execution_count": null,
   "id": "08cdc425-2f2f-4bd3-a779-79ad2278725d",
   "metadata": {},
   "outputs": [],
   "source": [
    "error_abs = abs(math.pi - aprox)\n",
    "error_relativo = error_abs/abs(math.pi)\n",
    "print(error_relativo)\n",
    "print(error_abs)"
   ]
  },
  {
   "cell_type": "markdown",
   "id": "10748df7-1674-40b5-9841-7acdb2351ec9",
   "metadata": {},
   "source": [
    "$error_{relativo} = 0.0012679804598147663$\n",
    "\n",
    "$error_{abs} = 0.003983478097449478$"
   ]
  },
  {
   "cell_type": "markdown",
   "id": "ccb560d6-9532-4bf3-b2f8-241966398d32",
   "metadata": {},
   "source": [
    "**b.** $16arctan(\\frac{1}{5}) - 4arctan(\\frac{1}{239})$"
   ]
  },
  {
   "cell_type": "code",
   "execution_count": null,
   "id": "d525a6bb-6042-45ab-96bd-0f2f1b51a80e",
   "metadata": {},
   "outputs": [],
   "source": [
    "arctan1 = 1/5 - (1/3)*(1/5)**3 + (1/5)*(1/5)**5\n",
    "arctan2 = 1/239 - (1/3)*(1/239)**3 + (1/5)*(1/239)**5\n",
    "print(arctan1)\n",
    "print(arctan2)"
   ]
  },
  {
   "cell_type": "markdown",
   "id": "1f7faa26-1a2c-4d02-8a3c-87cc6b26e051",
   "metadata": {},
   "source": [
    "$arctan(\\frac{1}{2}) = \\frac{1}{5}-\\frac{1}{3}(\\frac{1}{5})^3+\\frac{1}{5}(\\frac{1}{5})^5 = 0.19739733333333334$\n",
    "\n",
    "$arctan(\\frac{1}{239}) = \\frac{1}{239}-\\frac{1}{3}(\\frac{1}{239})^3+\\frac{1}{5}(\\frac{1}{239})^5 = 0.004184076002074726$"
   ]
  },
  {
   "cell_type": "code",
   "execution_count": null,
   "id": "7e610fb1-a2c7-4fee-8638-f1937d9688e7",
   "metadata": {},
   "outputs": [],
   "source": [
    "aprox = 16*arctan1-4*arctan2\n",
    "print(aprox)"
   ]
  },
  {
   "cell_type": "markdown",
   "id": "91f70e74-d6a0-4852-a13d-6bf074117036",
   "metadata": {},
   "source": [
    "$16arctan(\\frac{1}{5}) - 4arctan(\\frac{1}{239})] = 16(\\frac{1}{5}-\\frac{1}{3}(\\frac{1}{5})^3+\\frac{1}{5}(\\frac{1}{5})^5) + 4(\\frac{1}{239}-\\frac{1}{3}(\\frac{1}{239})^3+\\frac{1}{5}(\\frac{1}{239})^5]) = 3.1416210293250346$"
   ]
  },
  {
   "cell_type": "markdown",
   "id": "b0785f03-82a6-407c-b014-a7609a7572eb",
   "metadata": {},
   "source": [
    "$error_{abs} = | p - p^* | = |\\pi - 3.1416210293250346|$\n",
    "\n",
    "$error_{relativo} = \\frac{| p - p^* |}{|p|} = \\frac{|\\pi - 3.1416210293250346|}{|\\pi|}$"
   ]
  },
  {
   "cell_type": "code",
   "execution_count": null,
   "id": "89954b53-f872-454e-86d8-8abb72f24f09",
   "metadata": {},
   "outputs": [],
   "source": [
    "error_abs = abs(math.pi - aprox)\n",
    "error_relativo = error_abs/abs(math.pi)\n",
    "print(error_relativo)\n",
    "print(error_abs)"
   ]
  },
  {
   "cell_type": "markdown",
   "id": "b042a70a-9260-454a-b301-6823c23f8068",
   "metadata": {},
   "source": [
    "$error_{relativo} = 9.032277055104427e^{-6}$\n",
    "\n",
    "$error_{abs} = 2.837573524150372e^{-5}$"
   ]
  },
  {
   "cell_type": "markdown",
   "id": "bd750aaa-8771-44f9-85bf-2b76e6c1c607",
   "metadata": {},
   "source": [
    "**6.** El número $e$ se puede definir por medio de $\\displaystyle\\sum_{n=0}^\\infty (\\frac{1}{n!})$  , donde $𝑛! = n(𝑛 − 1) ⋅⋅⋅ 2 \\cdot 1$ para $n ≠ 0$ y $0! = 1$. Calcule los errores absoluto y relativo en la siguiente aproximación $e$ de "
   ]
  },
  {
   "cell_type": "markdown",
   "id": "fc997752-a2c0-4d63-93f5-6d49dc699426",
   "metadata": {},
   "source": [
    "**a.** $\\displaystyle\\sum_{n=0}^5 (\\frac{1}{n!})$ "
   ]
  },
  {
   "cell_type": "code",
   "execution_count": null,
   "id": "3fe1d496-7f11-4438-9a99-7b00f11db2ca",
   "metadata": {},
   "outputs": [],
   "source": [
    "aprox = 0\n",
    "for n in range(5):\n",
    "    aprox += (1/math.factorial(n))\n",
    "print(aprox)"
   ]
  },
  {
   "cell_type": "markdown",
   "id": "37f1be7e-8095-4a14-a97f-b8213fdcfd09",
   "metadata": {},
   "source": [
    "$\\displaystyle\\sum_{n=0}^5 (\\frac{1}{n!}) =  2.708333333333333$ "
   ]
  },
  {
   "cell_type": "markdown",
   "id": "03afa214-b88e-4a04-b01b-4cc10505cdc8",
   "metadata": {},
   "source": [
    "$error_{abs} = | p - p^* | = |e - 2.708333333333333|$\n",
    "\n",
    "$error_{relativo} = \\frac{| p - p^* |}{|p|} = \\frac{|e - 2.708333333333333|}{|e|}$"
   ]
  },
  {
   "cell_type": "code",
   "execution_count": null,
   "id": "214b37e0-acf9-4084-b42c-b136933914aa",
   "metadata": {},
   "outputs": [],
   "source": [
    "error_abs = abs(math.e - aprox)\n",
    "error_relativo = error_abs/abs(math.e)\n",
    "print(error_relativo)\n",
    "print(error_abs)"
   ]
  },
  {
   "cell_type": "markdown",
   "id": "615b7333-9ee7-42a7-a902-d3145ec51312",
   "metadata": {},
   "source": [
    "$error_{relativo} = 0.003659846827343768$\n",
    "\n",
    "$error_{abs} = 0.009948495125712054$"
   ]
  },
  {
   "cell_type": "markdown",
   "id": "8193518c-7ee9-4e97-80ec-fd91eec40e1d",
   "metadata": {},
   "source": [
    "**b.** $\\displaystyle\\sum_{n=0}^10 (\\frac{1}{n!})$ "
   ]
  },
  {
   "cell_type": "code",
   "execution_count": null,
   "id": "c048bd81-ff90-4219-b996-f05055d00c9e",
   "metadata": {},
   "outputs": [],
   "source": [
    "aprox = 0\n",
    "for n in range(10):\n",
    "    aprox += (1/math.factorial(n))\n",
    "print(aprox)"
   ]
  },
  {
   "cell_type": "markdown",
   "id": "3dd60445-75b9-4ec6-8738-53b6276096c8",
   "metadata": {},
   "source": [
    "$\\displaystyle\\sum_{n=0}^10 (\\frac{1}{n!}) =  2.7182815255731922$ "
   ]
  },
  {
   "cell_type": "markdown",
   "id": "6f48fac5-916b-4c49-9b5b-f9b9377c037a",
   "metadata": {},
   "source": [
    "$error_{abs} = | p - p^* | = |e - 2.7182815255731922|$\n",
    "\n",
    "$error_{relativo} = \\frac{| p - p^* |}{|p|} = \\frac{|e - 2.7182815255731922|}{|e|}$"
   ]
  },
  {
   "cell_type": "code",
   "execution_count": null,
   "id": "248d7ce0-5555-44a7-abca-ffdfbb146568",
   "metadata": {},
   "outputs": [],
   "source": [
    "error_abs = abs(math.e - aprox)\n",
    "error_relativo = error_abs/abs(math.e)\n",
    "print(error_relativo)\n",
    "print(error_abs)"
   ]
  },
  {
   "cell_type": "markdown",
   "id": "37cfb122-687f-4e7e-9677-fb4ef844b9eb",
   "metadata": {},
   "source": [
    "$error_{relativo} = 1.1142547828265698e^{-07}$\n",
    "\n",
    "$error_{abs} = 3.0288585284310443e^{-07}$"
   ]
  },
  {
   "cell_type": "markdown",
   "id": "91d66a33-a204-46ed-861d-fdfba966b456",
   "metadata": {},
   "source": [
    "**7.** Suponga que dos puntos $(𝑥 ,𝑦)$ y $(𝑥 ,𝑦)$ se encuentran en línea recta con $𝑦 ≠ 𝑦$ . Existen dos fórmulas para encontrar la intersección $𝑥$ de la línea:\n",
    "\n",
    "$x = \\frac{x_0y_1-x_1y_0}{y_1y_0}$ y $x = x_0 - \\frac{(x_1-x_0)y_0}{y_1-y_0}$ \n",
    "\n",
    "**a.**  Use los datos $(𝑥 ,𝑦)=(1.31,3.24)$ y $(𝑥 ,𝑦)=(1.93,5.76)$ y la aritmética de redondeo de tres dígitos para calcular la intersección con $𝑥$ de ambas maneras. ¿Cuál método es mejor y por qué? "
   ]
  },
  {
   "cell_type": "markdown",
   "id": "75cd7410-0684-4bd1-a3e3-d2228ff4b3bb",
   "metadata": {},
   "source": [
    "- $x = \\frac{x_0y_1-x_1y_0}{y_1y_0}$"
   ]
  },
  {
   "cell_type": "code",
   "execution_count": null,
   "id": "8de8cae1-9e2c-4e0f-8cc4-72c317d5ea05",
   "metadata": {},
   "outputs": [],
   "source": [
    "x_0 = 1.31\n",
    "x_1 = 1.93\n",
    "y_0 = 3.24\n",
    "y_1 = 5.76\n",
    "x = round (round(round(x_0*y_1,2) - round(x_1*y_0,2),3) / round(y_1*y_0,1),4)"
   ]
  },
  {
   "cell_type": "markdown",
   "id": "59a3ac4a-bcc5-41ff-bb1c-426d83f66baf",
   "metadata": {},
   "source": [
    "$x = \\frac{x_0y_1-x_1y_0}{y_1y_0} = \\frac{1.31 \\cdot 5.76 - 1.93 \\cdot 3.24}{5.76 \\cdot 3.24} = 0.0695$"
   ]
  },
  {
   "cell_type": "markdown",
   "id": "7267fee0-8069-459f-9a52-978b5a4c5c40",
   "metadata": {},
   "source": [
    "- $x = x_0 - \\frac{(x_1-x_0)y_0}{y_1-y_0}$ "
   ]
  },
  {
   "cell_type": "code",
   "execution_count": null,
   "id": "5db87a6f-7ab2-4e62-846f-10df3d61683f",
   "metadata": {},
   "outputs": [],
   "source": [
    "x = round(round(round(x_1-x_0,3) * y_0, 2) / round(y_1-y_0,2),3)"
   ]
  },
  {
   "cell_type": "markdown",
   "id": "cb009b86-57ff-45a2-ad9d-7f4a84471e4b",
   "metadata": {},
   "source": [
    "$x = x_0 - \\frac{(x_1-x_0)y_0}{y_1-y_0}  = 1.31 - \\frac{(1.93-1.31)3.24}{5.76-3.24} = 0.798$ "
   ]
  },
  {
   "cell_type": "markdown",
   "id": "85138675-716a-41db-adab-ddb5ed5d3aea",
   "metadata": {},
   "source": [
    "La mejor formula para calcular la intersección con 𝑥 es la primera, porque incluye una resta mientras que el segundo incluye tres. La operación de resta reduce las cifras significativas, porque si aplicamos una operación a dos números cercanos, se obtiene un número menos preciso. "
   ]
  }
 ],
 "metadata": {
  "kernelspec": {
   "display_name": "Python 3 (ipykernel)",
   "language": "python",
   "name": "python3"
  },
  "language_info": {
   "codemirror_mode": {
    "name": "ipython",
    "version": 3
   },
   "file_extension": ".py",
   "mimetype": "text/x-python",
   "name": "python",
   "nbconvert_exporter": "python",
   "pygments_lexer": "ipython3",
   "version": "3.12.3"
  }
 },
 "nbformat": 4,
 "nbformat_minor": 5
}
