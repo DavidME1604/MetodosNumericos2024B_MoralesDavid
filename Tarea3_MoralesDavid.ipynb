{
 "cells": [
  {
   "cell_type": "raw",
   "id": "e3099a20-4cc9-4a55-ad88-e17d23d70e28",
   "metadata": {},
   "source": [
    "---\n",
    "title: \"Ejercicios: Algoritmos y convergencia\"\n",
    "author: \"David Morales\"\n",
    "lang: es\n",
    "format: \n",
    "  pdf:\n",
    "    toc: false\n",
    "execute:\n",
    "  output-format: console\n",
    "  echo: true\n",
    "  error: true\n",
    "  warning: false\n",
    "jupyter: python3\n",
    "---"
   ]
  },
  {
   "cell_type": "markdown",
   "id": "75f678c1-ad6f-4d64-96ad-36ba542ad688",
   "metadata": {},
   "source": [
    "2. La serie de Macalurin para la función arcotangente converge para $-1< x \\le 1$ y está dada por $\\arctan x = \\lim_{n \\to \\infty} P_n(x) = \\lim_{n \\to \\infty} \\sum_{i=1}^{n} (-1)^{i+1} \\frac{x^{2i-1}}{2i-1}$"
   ]
  },
  {
   "cell_type": "markdown",
   "id": "921ac453-f57f-4386-93f7-538133c17c20",
   "metadata": {},
   "source": [
    "a) Utilice el hecho de que $\\tan \\frac{\\pi}{4}=1$ para determinar el número n de términos de la serie que se necesita sumar para garantizar que $\\left|4P_n(1)-\\pi \\right|<10^{-3}$"
   ]
  },
  {
   "cell_type": "markdown",
   "id": "283e6732-9e1b-4a88-9960-88e8ce3071da",
   "metadata": {},
   "source": [
    "Partiendo de $\\tan \\frac{\\pi}{4}=1$, obtenemos:\n",
    "$\\arctan (1)=\\frac{pi}{4}$\n",
    "\n",
    "Por Maclaurin:\n",
    "\n",
    "$\\arctan (1)= \\sum{i=1}^{n} (-1)^{i+1}\\frac{1^{2i-1}}{2i-1}$\n",
    "\n",
    "$P_n(1)=\\sum{i=1}^{n}(-1)^{i+1}\\frac{1}{2i-1}$\n",
    "\n",
    "Se da valores a n para garantizar\n",
    "\n",
    "$\\left|4P_n(1)-pi \\right|<10^{-3}$"
   ]
  },
  {
   "cell_type": "code",
   "execution_count": 35,
   "id": "21b380ee-a0fd-41d0-af77-ca034adb189d",
   "metadata": {},
   "outputs": [
    {
     "name": "stdout",
     "output_type": "stream",
     "text": [
      "Número mínimo de términos necesarios: 1000\n",
      "Valor aproximado de π: 3.140592653839794\n",
      "Error absoluto: 0.000999999749998981\n"
     ]
    }
   ],
   "source": [
    "import math\n",
    "\n",
    "def calcular_n():\n",
    "    n = 0\n",
    "    suma = 0.0\n",
    "    error = float('inf')\n",
    "    pi_real = math.pi\n",
    "    while error >= 1e-3:\n",
    "        n += 1\n",
    "        termino = (-1)**(n+1) / (2*n - 1)\n",
    "        suma += termino\n",
    "        pi_aproximado = 4 * suma\n",
    "        error = abs(pi_real - pi_aproximado)\n",
    "    return n, pi_aproximado, error\n",
    "\n",
    "n, pi_aproximado, error = calcular_n()\n",
    "print(f\"Número mínimo de términos necesarios: {n}\")\n",
    "print(f\"Valor aproximado de π: {pi_aproximado}\")\n",
    "print(f\"Error absoluto: {error}\")"
   ]
  },
  {
   "cell_type": "markdown",
   "id": "b0c1f639-3ab2-4464-bf50-83f3eb70a5f4",
   "metadata": {},
   "source": [
    "b) El lenguaje de programación c++ requiere que el valor $\\pi$ se encuentre dentro de $10^{-10}$.  ¿Cuántos términos de la serie se necesitarían sumar para obtener este grado de presición?\n",
    "\n",
    "A partir del enunciado anterior |\n",
    "$4*\\sum_{i=1}^{n}(-1)^{i+1}\\frac{1}{2i-1}=\\pi$"
   ]
  },
  {
   "cell_type": "code",
   "execution_count": null,
   "id": "b00f0653-7277-42df-aa0f-e2e28e49f28d",
   "metadata": {},
   "outputs": [],
   "source": [
    "import math\n",
    "\n",
    "def calcular_pi(n):\n",
    "    suma = 0.0\n",
    "    for i in range(n):\n",
    "        termino = (-1) ** i * (1.0 / (2 * i + 1))\n",
    "        suma += termino\n",
    "    return 4.0 * suma\n",
    "\n",
    "def contar_decimales_correctos(aproximacion, pi_exacto):\n",
    "    str_aprox = f\"{aproximacion:.15f}\"\n",
    "    str_pi = f\"{pi_exacto:.15f}\"\n",
    "    contador = 0\n",
    "    for a, b in zip(str_aprox[2:], str_pi[2:]):\n",
    "        if a == b:\n",
    "            contador += 1\n",
    "        else:\n",
    "            break\n",
    "    return contador\n",
    "\n",
    "precision_deseada = 6\n",
    "pi_exacto = math.pi\n",
    "n = 1\n",
    "\n",
    "while True:\n",
    "    aproximacion = calcular_pi(n)\n",
    "    decimales_correctos = contar_decimales_correctos(aproximacion, pi_exacto)\n",
    "    if decimales_correctos >= precision_deseada:\n",
    "        break\n",
    "    n += 1\n",
    "\n",
    "print(f\"Se necesitaron {n} términos para obtener {precision_deseada} decimales correctos.\")\n",
    "print(f\"Valor aproximado de π: {aproximacion:.15f}\")\n",
    "print(f\"Valor exacto de π:    {pi_exacto:.15f}\")\n"
   ]
  },
  {
   "cell_type": "markdown",
   "id": "956bdbc1-85be-4fa8-b3b0-7089ca3b474f",
   "metadata": {},
   "source": [
    "3. Otra fórmula para calcular $\\pi$ se puede deducir a partir de la identidad $\\pi/4=4\\arctan\\frac{1}{5}-arctan\\frac{1}{239}$.Determine el número de términos que se deben sumar para garantizar una aproximación dentro de $10^{-3}$.\n",
    "\n",
    "Despejando $\\pi$ -> \n",
    "$\\pi=4*(4*\\arctan\\frac{1}{5}-\\arctan\\frac{1}{239})$\n",
    "\n",
    "El valor de la arcotangente se obtiene a partir de Maclaurin"
   ]
  },
  {
   "cell_type": "code",
   "execution_count": 7,
   "id": "ec44a47a-5e56-4b4e-b488-b30255ed902f",
   "metadata": {},
   "outputs": [
    {
     "name": "stdout",
     "output_type": "stream",
     "text": [
      "Se necesitaron 2 términos para obtener 3 decimales correctos.\n"
     ]
    }
   ],
   "source": [
    "import math\n",
    "\n",
    "def calcular_pi_aproximado(terminos):\n",
    "    suma1 = sum((-1)**k / (5**(2*k + 1) * (2*k + 1)) for k in range(terminos))\n",
    "    suma2 = sum((-1)**k / (239**(2*k + 1) * (2*k + 1)) for k in range(terminos))\n",
    "    return 4 * (4 * suma1 - suma2)\n",
    "\n",
    "def contar_decimales_correctos(aprox, valor_exacto, decimales):\n",
    "    aprox_str = f\"{aprox:.{decimales + 1}f}\"\n",
    "    exacto_str = f\"{valor_exacto:.{decimales + 1}f}\"\n",
    "    coincidencias = sum(1 for i, j in zip(aprox_str, exacto_str) if i == j)\n",
    "    return coincidencias - 1  # Para ignorar el punto decimal\n",
    "\n",
    "pi_real = math.pi\n",
    "decimales_deseados = 3\n",
    "iteracion = 1\n",
    "\n",
    "while True:\n",
    "    pi_aprox = calcular_pi_aproximado(iteracion)\n",
    "    coincidencias = contar_decimales_correctos(pi_aprox, pi_real, decimales_deseados)\n",
    "    if coincidencias >= decimales_deseados:\n",
    "        break\n",
    "    iteracion += 1\n",
    "\n",
    "print(f\"Se necesitaron {iteracion} términos para obtener {decimales_deseados} decimales correctos.\")"
   ]
  },
  {
   "attachments": {},
   "cell_type": "markdown",
   "id": "8e86ba65-0ea4-4d7c-bc42-0926ab0889f5",
   "metadata": {},
   "source": [
    "5. ¿Cuántas multiplicaciones y sumas se requieren para determinar una suma de la forma $\\sum_{i=1}^{n}\\sum_{j=1}^{i}a_ib_j$?\n",
    "\n",
    "Para un valor dado de i, j toma valores de 1 hasta i, por lo que se realizan i multiplicaciones, dando que en total se realizarán $\\sum_{i=1}^{n}i=\\frac{n(n+1)}{2}$, siendo esta la cantidad de veces que se realiza la multiplicación."
   ]
  },
  {
   "cell_type": "code",
   "execution_count": 3,
   "id": "6c687e5c-e049-4aab-a4c9-f92b41cad8fa",
   "metadata": {},
   "outputs": [
    {
     "name": "stdout",
     "output_type": "stream",
     "text": [
      "La multiplicación se ha realizado 6 veces\n"
     ]
    }
   ],
   "source": [
    "n = 3\n",
    "multiplicaciones = 0\n",
    "for i in range(1, n+1):\n",
    "    for j in range(1, i+1):\n",
    "        multiplicacion = i * j\n",
    "        multiplicaciones += 1\n",
    "\n",
    "print(f'La multiplicación se ha realizado {multiplicaciones} veces')"
   ]
  },
  {
   "cell_type": "markdown",
   "id": "3de69cc3-814b-40ef-b713-eab827b23940",
   "metadata": {},
   "source": [
    "## Discuciones\n",
    "\n",
    "2. Las ecuaciones(1.2) y (1.3) en la sección 1.2 proporcionan formas alternativas para las raíces. $x_1$ y $x_2$ de $ax^2+bx+c=0$ .Construya un algoritmo con entrada a,b,c y salida x_1,x_2 que calcule las raíces $x_1$ y $x_2$ (que pueden ser iguales con conjugados complejos) mediante la mejor fórmula para cada raíz"
   ]
  },
  {
   "cell_type": "code",
   "execution_count": 9,
   "id": "25fccab7-eb56-43ee-bd89-abfd120a512c",
   "metadata": {},
   "outputs": [
    {
     "name": "stdout",
     "output_type": "stream",
     "text": [
      "Las raíces son:\n",
      "x1 = (-1+0j)\n",
      "x2 = (-0.5-0j)\n"
     ]
    }
   ],
   "source": [
    "import cmath\n",
    "\n",
    "def calcular_raices_convergencia(a, b, c, tolerancia=1e-12):\n",
    "    D = b**2 - 4 * a * c\n",
    "    sqrt_D = cmath.sqrt(D)\n",
    "    \n",
    "    if abs(D) < tolerancia:\n",
    "        x1 = -b / (2 * a)\n",
    "        x2 = x1\n",
    "    elif b >= 0:\n",
    "        x1 = (-b - sqrt_D) / (2 * a)\n",
    "        x2 = (2 * c) / (-b - sqrt_D)\n",
    "    else:\n",
    "        x1 = (-b + sqrt_D) / (2 * a)\n",
    "        x2 = (2 * c) / (-b + sqrt_D)\n",
    "    \n",
    "    return x1, x2\n",
    "\n",
    "a = 2\n",
    "b = 3\n",
    "c = 1\n",
    "x1, x2 = calcular_raices_convergencia(a, b, c)\n",
    "print(\"Las raíces son:\")\n",
    "print(\"x1 =\", x1)\n",
    "print(\"x2 =\", x2)\n"
   ]
  },
  {
   "cell_type": "markdown",
   "id": "55e796fe-74cd-4663-bd8b-136b8fe926f7",
   "metadata": {},
   "source": [
    "**GitHub:** git@github.com:DavidME1604/MetodosNumericos2024B_MoralesDavid.git"
   ]
  }
 ],
 "metadata": {
  "kernelspec": {
   "display_name": "Python 3 (ipykernel)",
   "language": "python",
   "name": "python3"
  },
  "language_info": {
   "codemirror_mode": {
    "name": "ipython",
    "version": 3
   },
   "file_extension": ".py",
   "mimetype": "text/x-python",
   "name": "python",
   "nbconvert_exporter": "python",
   "pygments_lexer": "ipython3",
   "version": "3.12.3"
  }
 },
 "nbformat": 4,
 "nbformat_minor": 5
}
